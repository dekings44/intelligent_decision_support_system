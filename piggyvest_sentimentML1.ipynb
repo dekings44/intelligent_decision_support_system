{
 "cells": [
  {
   "cell_type": "code",
   "execution_count": 1,
   "id": "8fade3cb-9f95-4155-9e24-69ecd94a6754",
   "metadata": {},
   "outputs": [
    {
     "name": "stderr",
     "output_type": "stream",
     "text": [
      "[nltk_data] Downloading package stopwords to\n",
      "[nltk_data]     C:\\Users\\kings\\AppData\\Roaming\\nltk_data...\n",
      "[nltk_data]   Package stopwords is already up-to-date!\n"
     ]
    }
   ],
   "source": [
    "# Libraries and modules for the sentiment analysis\n",
    "import pandas as pd\n",
    "from textblob import TextBlob\n",
    "from wordcloud import WordCloud\n",
    "import numpy as np\n",
    "import matplotlib.pyplot as plt\n",
    "import re\n",
    "\n",
    "from sklearn.feature_extraction.text import CountVectorizer\n",
    "from sklearn.model_selection import train_test_split\n",
    "from sklearn.naive_bayes import GaussianNB\n",
    "from sklearn.metrics import confusion_matrix, accuracy_score, classification_report\n",
    "from sklearn import svm\n",
    "import joblib\n",
    "import pickle\n",
    "\n",
    "import nltk\n",
    "\n",
    "nltk.download('stopwords')\n",
    "\n",
    "from nltk.corpus import stopwords\n",
    "from nltk.stem.porter import PorterStemmer\n",
    "ps = PorterStemmer()\n",
    "\n",
    "all_stopwords = stopwords.words('english')\n",
    "all_stopwords.remove('not')\n",
    "plt.style.use('fivethirtyeight')"
   ]
  },
  {
   "cell_type": "code",
   "execution_count": 2,
   "id": "40899a14-66d7-4738-9ec3-5f1498770727",
   "metadata": {},
   "outputs": [],
   "source": [
    "#Importing the dataset.\n",
    "piggy_data = pd.read_csv('piggyvest.csv')"
   ]
  },
  {
   "cell_type": "code",
   "execution_count": 3,
   "id": "eeb9050a-06e8-44b0-a061-304a54b47a42",
   "metadata": {},
   "outputs": [
    {
     "data": {
      "text/html": [
       "<div>\n",
       "<style scoped>\n",
       "    .dataframe tbody tr th:only-of-type {\n",
       "        vertical-align: middle;\n",
       "    }\n",
       "\n",
       "    .dataframe tbody tr th {\n",
       "        vertical-align: top;\n",
       "    }\n",
       "\n",
       "    .dataframe thead th {\n",
       "        text-align: right;\n",
       "    }\n",
       "</style>\n",
       "<table border=\"1\" class=\"dataframe\">\n",
       "  <thead>\n",
       "    <tr style=\"text-align: right;\">\n",
       "      <th></th>\n",
       "      <th>reviewId</th>\n",
       "      <th>userName</th>\n",
       "      <th>userImage</th>\n",
       "      <th>content</th>\n",
       "      <th>score</th>\n",
       "      <th>thumbsUpCount</th>\n",
       "      <th>reviewCreatedVersion</th>\n",
       "      <th>at</th>\n",
       "      <th>replyContent</th>\n",
       "      <th>repliedAt</th>\n",
       "    </tr>\n",
       "  </thead>\n",
       "  <tbody>\n",
       "    <tr>\n",
       "      <th>0</th>\n",
       "      <td>c182640a-6ebe-4df7-8844-c200cefa8502</td>\n",
       "      <td>Praise Yusufu</td>\n",
       "      <td>https://play-lh.googleusercontent.com/a-/ACNPE...</td>\n",
       "      <td>I'm very pleased with this app..I've been usin...</td>\n",
       "      <td>4</td>\n",
       "      <td>155</td>\n",
       "      <td>4.6.0</td>\n",
       "      <td>2022-08-24 00:35:02</td>\n",
       "      <td>NaN</td>\n",
       "      <td>NaN</td>\n",
       "    </tr>\n",
       "    <tr>\n",
       "      <th>1</th>\n",
       "      <td>2f37c59f-5bf2-4c9d-b577-3646242e5c4e</td>\n",
       "      <td>A Google user</td>\n",
       "      <td>https://play-lh.googleusercontent.com/EGemoI2N...</td>\n",
       "      <td>Result of my review on PiggyVest's mobile appl...</td>\n",
       "      <td>5</td>\n",
       "      <td>334</td>\n",
       "      <td>4.0.1</td>\n",
       "      <td>2020-03-29 21:56:27</td>\n",
       "      <td>NaN</td>\n",
       "      <td>NaN</td>\n",
       "    </tr>\n",
       "    <tr>\n",
       "      <th>2</th>\n",
       "      <td>5e9e7362-2150-4680-90d8-e49895b97abe</td>\n",
       "      <td>A Google user</td>\n",
       "      <td>https://play-lh.googleusercontent.com/EGemoI2N...</td>\n",
       "      <td>The beauty of an application or software is it...</td>\n",
       "      <td>5</td>\n",
       "      <td>277</td>\n",
       "      <td>4.0.1</td>\n",
       "      <td>2020-04-02 08:07:15</td>\n",
       "      <td>NaN</td>\n",
       "      <td>NaN</td>\n",
       "    </tr>\n",
       "    <tr>\n",
       "      <th>3</th>\n",
       "      <td>f1dafc5a-4bf9-4a15-8a9f-f29c65a7f2ec</td>\n",
       "      <td>Precious Sobamiwa</td>\n",
       "      <td>https://play-lh.googleusercontent.com/a-/ACNPE...</td>\n",
       "      <td>Awesome!!! Use this to save, its amazing... Th...</td>\n",
       "      <td>5</td>\n",
       "      <td>226</td>\n",
       "      <td>4.5.0</td>\n",
       "      <td>2020-11-03 01:37:33</td>\n",
       "      <td>NaN</td>\n",
       "      <td>NaN</td>\n",
       "    </tr>\n",
       "    <tr>\n",
       "      <th>4</th>\n",
       "      <td>614f37de-24f7-4041-84fc-3044fb7b5f85</td>\n",
       "      <td>A Google user</td>\n",
       "      <td>https://play-lh.googleusercontent.com/EGemoI2N...</td>\n",
       "      <td>Each update increase the complexity of the app...</td>\n",
       "      <td>4</td>\n",
       "      <td>54</td>\n",
       "      <td>4.0.1</td>\n",
       "      <td>2020-01-02 10:48:51</td>\n",
       "      <td>NaN</td>\n",
       "      <td>NaN</td>\n",
       "    </tr>\n",
       "  </tbody>\n",
       "</table>\n",
       "</div>"
      ],
      "text/plain": [
       "                               reviewId           userName  \\\n",
       "0  c182640a-6ebe-4df7-8844-c200cefa8502      Praise Yusufu   \n",
       "1  2f37c59f-5bf2-4c9d-b577-3646242e5c4e      A Google user   \n",
       "2  5e9e7362-2150-4680-90d8-e49895b97abe      A Google user   \n",
       "3  f1dafc5a-4bf9-4a15-8a9f-f29c65a7f2ec  Precious Sobamiwa   \n",
       "4  614f37de-24f7-4041-84fc-3044fb7b5f85      A Google user   \n",
       "\n",
       "                                           userImage  \\\n",
       "0  https://play-lh.googleusercontent.com/a-/ACNPE...   \n",
       "1  https://play-lh.googleusercontent.com/EGemoI2N...   \n",
       "2  https://play-lh.googleusercontent.com/EGemoI2N...   \n",
       "3  https://play-lh.googleusercontent.com/a-/ACNPE...   \n",
       "4  https://play-lh.googleusercontent.com/EGemoI2N...   \n",
       "\n",
       "                                             content  score  thumbsUpCount  \\\n",
       "0  I'm very pleased with this app..I've been usin...      4            155   \n",
       "1  Result of my review on PiggyVest's mobile appl...      5            334   \n",
       "2  The beauty of an application or software is it...      5            277   \n",
       "3  Awesome!!! Use this to save, its amazing... Th...      5            226   \n",
       "4  Each update increase the complexity of the app...      4             54   \n",
       "\n",
       "  reviewCreatedVersion                   at replyContent repliedAt  \n",
       "0                4.6.0  2022-08-24 00:35:02          NaN       NaN  \n",
       "1                4.0.1  2020-03-29 21:56:27          NaN       NaN  \n",
       "2                4.0.1  2020-04-02 08:07:15          NaN       NaN  \n",
       "3                4.5.0  2020-11-03 01:37:33          NaN       NaN  \n",
       "4                4.0.1  2020-01-02 10:48:51          NaN       NaN  "
      ]
     },
     "execution_count": 3,
     "metadata": {},
     "output_type": "execute_result"
    }
   ],
   "source": [
    "piggy_data.head()"
   ]
  },
  {
   "cell_type": "code",
   "execution_count": 4,
   "id": "6eeee3c7-6b44-4d36-ad4a-b36938eda480",
   "metadata": {},
   "outputs": [
    {
     "data": {
      "text/plain": [
       "(21599, 10)"
      ]
     },
     "execution_count": 4,
     "metadata": {},
     "output_type": "execute_result"
    }
   ],
   "source": [
    "piggy_data.shape"
   ]
  },
  {
   "cell_type": "code",
   "execution_count": 5,
   "id": "4575bae6-f269-495d-a1a7-a8721cafca86",
   "metadata": {},
   "outputs": [],
   "source": [
    "# This Function is to clean the dataset and remove the noise\n",
    "def cleanData(data):\n",
    "  data = re.sub(r'@[A-Za-z0-9_]+', '', data) # this will remove the @ mentions\n",
    "  data = re.sub(r'#', '', data) # this will remove the # symbols\n",
    "  data = re.sub(r'https?:\\/\\/\\s+', '', data) # This will remove the hyperlink\n",
    "  data = re.sub(r'\\n+', '', data) # This will removes all mention of \\n\n",
    "  data = re.sub(r'_', '', data) # This will remove _\n",
    "  data = re.sub(r'[0-9]', '', data) # This will remove numbers\n",
    "  data = data.lower()\n",
    "  data = data.split()\n",
    "  data = [ps.stem(word) for word in data if not word in set(all_stopwords)]\n",
    "  data = ' '.join(data)\n",
    "  return data"
   ]
  },
  {
   "cell_type": "code",
   "execution_count": 6,
   "id": "df85e3e7-633e-4054-b518-2aecdba62552",
   "metadata": {},
   "outputs": [],
   "source": [
    "piggy_data['review'] = piggy_data['content'].apply(cleanData)"
   ]
  },
  {
   "cell_type": "code",
   "execution_count": 7,
   "id": "6cf4fdb2-3137-40ed-aebc-7c1ee385e3dd",
   "metadata": {},
   "outputs": [
    {
     "data": {
      "text/html": [
       "<div>\n",
       "<style scoped>\n",
       "    .dataframe tbody tr th:only-of-type {\n",
       "        vertical-align: middle;\n",
       "    }\n",
       "\n",
       "    .dataframe tbody tr th {\n",
       "        vertical-align: top;\n",
       "    }\n",
       "\n",
       "    .dataframe thead th {\n",
       "        text-align: right;\n",
       "    }\n",
       "</style>\n",
       "<table border=\"1\" class=\"dataframe\">\n",
       "  <thead>\n",
       "    <tr style=\"text-align: right;\">\n",
       "      <th></th>\n",
       "      <th>reviewId</th>\n",
       "      <th>userName</th>\n",
       "      <th>userImage</th>\n",
       "      <th>content</th>\n",
       "      <th>score</th>\n",
       "      <th>thumbsUpCount</th>\n",
       "      <th>reviewCreatedVersion</th>\n",
       "      <th>at</th>\n",
       "      <th>replyContent</th>\n",
       "      <th>repliedAt</th>\n",
       "      <th>review</th>\n",
       "    </tr>\n",
       "  </thead>\n",
       "  <tbody>\n",
       "    <tr>\n",
       "      <th>0</th>\n",
       "      <td>c182640a-6ebe-4df7-8844-c200cefa8502</td>\n",
       "      <td>Praise Yusufu</td>\n",
       "      <td>https://play-lh.googleusercontent.com/a-/ACNPE...</td>\n",
       "      <td>I'm very pleased with this app..I've been usin...</td>\n",
       "      <td>4</td>\n",
       "      <td>155</td>\n",
       "      <td>4.6.0</td>\n",
       "      <td>2022-08-24 00:35:02</td>\n",
       "      <td>NaN</td>\n",
       "      <td>NaN</td>\n",
       "      <td>i'm pleas app..i'v use sinc i'v never look bac...</td>\n",
       "    </tr>\n",
       "    <tr>\n",
       "      <th>1</th>\n",
       "      <td>2f37c59f-5bf2-4c9d-b577-3646242e5c4e</td>\n",
       "      <td>A Google user</td>\n",
       "      <td>https://play-lh.googleusercontent.com/EGemoI2N...</td>\n",
       "      <td>Result of my review on PiggyVest's mobile appl...</td>\n",
       "      <td>5</td>\n",
       "      <td>334</td>\n",
       "      <td>4.0.1</td>\n",
       "      <td>2020-03-29 21:56:27</td>\n",
       "      <td>NaN</td>\n",
       "      <td>NaN</td>\n",
       "      <td>result review piggyvest' mobil application. si...</td>\n",
       "    </tr>\n",
       "    <tr>\n",
       "      <th>2</th>\n",
       "      <td>5e9e7362-2150-4680-90d8-e49895b97abe</td>\n",
       "      <td>A Google user</td>\n",
       "      <td>https://play-lh.googleusercontent.com/EGemoI2N...</td>\n",
       "      <td>The beauty of an application or software is it...</td>\n",
       "      <td>5</td>\n",
       "      <td>277</td>\n",
       "      <td>4.0.1</td>\n",
       "      <td>2020-04-02 08:07:15</td>\n",
       "      <td>NaN</td>\n",
       "      <td>NaN</td>\n",
       "      <td>beauti applic softwar abil solv intend purpos ...</td>\n",
       "    </tr>\n",
       "    <tr>\n",
       "      <th>3</th>\n",
       "      <td>f1dafc5a-4bf9-4a15-8a9f-f29c65a7f2ec</td>\n",
       "      <td>Precious Sobamiwa</td>\n",
       "      <td>https://play-lh.googleusercontent.com/a-/ACNPE...</td>\n",
       "      <td>Awesome!!! Use this to save, its amazing... Th...</td>\n",
       "      <td>5</td>\n",
       "      <td>226</td>\n",
       "      <td>4.5.0</td>\n",
       "      <td>2020-11-03 01:37:33</td>\n",
       "      <td>NaN</td>\n",
       "      <td>NaN</td>\n",
       "      <td>awesome!!! use save, amazing... there' bank ch...</td>\n",
       "    </tr>\n",
       "    <tr>\n",
       "      <th>4</th>\n",
       "      <td>614f37de-24f7-4041-84fc-3044fb7b5f85</td>\n",
       "      <td>A Google user</td>\n",
       "      <td>https://play-lh.googleusercontent.com/EGemoI2N...</td>\n",
       "      <td>Each update increase the complexity of the app...</td>\n",
       "      <td>4</td>\n",
       "      <td>54</td>\n",
       "      <td>4.0.1</td>\n",
       "      <td>2020-01-02 10:48:51</td>\n",
       "      <td>NaN</td>\n",
       "      <td>NaN</td>\n",
       "      <td>updat increas complex application. becom diffi...</td>\n",
       "    </tr>\n",
       "  </tbody>\n",
       "</table>\n",
       "</div>"
      ],
      "text/plain": [
       "                               reviewId           userName  \\\n",
       "0  c182640a-6ebe-4df7-8844-c200cefa8502      Praise Yusufu   \n",
       "1  2f37c59f-5bf2-4c9d-b577-3646242e5c4e      A Google user   \n",
       "2  5e9e7362-2150-4680-90d8-e49895b97abe      A Google user   \n",
       "3  f1dafc5a-4bf9-4a15-8a9f-f29c65a7f2ec  Precious Sobamiwa   \n",
       "4  614f37de-24f7-4041-84fc-3044fb7b5f85      A Google user   \n",
       "\n",
       "                                           userImage  \\\n",
       "0  https://play-lh.googleusercontent.com/a-/ACNPE...   \n",
       "1  https://play-lh.googleusercontent.com/EGemoI2N...   \n",
       "2  https://play-lh.googleusercontent.com/EGemoI2N...   \n",
       "3  https://play-lh.googleusercontent.com/a-/ACNPE...   \n",
       "4  https://play-lh.googleusercontent.com/EGemoI2N...   \n",
       "\n",
       "                                             content  score  thumbsUpCount  \\\n",
       "0  I'm very pleased with this app..I've been usin...      4            155   \n",
       "1  Result of my review on PiggyVest's mobile appl...      5            334   \n",
       "2  The beauty of an application or software is it...      5            277   \n",
       "3  Awesome!!! Use this to save, its amazing... Th...      5            226   \n",
       "4  Each update increase the complexity of the app...      4             54   \n",
       "\n",
       "  reviewCreatedVersion                   at replyContent repliedAt  \\\n",
       "0                4.6.0  2022-08-24 00:35:02          NaN       NaN   \n",
       "1                4.0.1  2020-03-29 21:56:27          NaN       NaN   \n",
       "2                4.0.1  2020-04-02 08:07:15          NaN       NaN   \n",
       "3                4.5.0  2020-11-03 01:37:33          NaN       NaN   \n",
       "4                4.0.1  2020-01-02 10:48:51          NaN       NaN   \n",
       "\n",
       "                                              review  \n",
       "0  i'm pleas app..i'v use sinc i'v never look bac...  \n",
       "1  result review piggyvest' mobil application. si...  \n",
       "2  beauti applic softwar abil solv intend purpos ...  \n",
       "3  awesome!!! use save, amazing... there' bank ch...  \n",
       "4  updat increas complex application. becom diffi...  "
      ]
     },
     "execution_count": 7,
     "metadata": {},
     "output_type": "execute_result"
    }
   ],
   "source": [
    "piggy_data.head()"
   ]
  },
  {
   "cell_type": "code",
   "execution_count": 8,
   "id": "afdfec6c-95bd-4484-9604-7c683417a65a",
   "metadata": {},
   "outputs": [],
   "source": [
    "# Create a function to get the subjectivity. This tells the subjectivity of the users\n",
    "def reviewSubjectivity(data):\n",
    "  return TextBlob(data).sentiment.subjectivity"
   ]
  },
  {
   "cell_type": "code",
   "execution_count": 9,
   "id": "5d3bf45f-9b5e-4709-a30a-172d2a2df113",
   "metadata": {},
   "outputs": [],
   "source": [
    "# New column for the subjectivity\n",
    "piggy_data['subjectivity'] = piggy_data['review'].apply(reviewSubjectivity)"
   ]
  },
  {
   "cell_type": "code",
   "execution_count": 10,
   "id": "46f218f7-0b56-4f5b-93ea-02c76bfd94f8",
   "metadata": {},
   "outputs": [],
   "source": [
    "# Create a function that tells the polarity of the review\n",
    "def reviewPolarity(data):\n",
    "  return TextBlob(data).sentiment.polarity"
   ]
  },
  {
   "cell_type": "code",
   "execution_count": 11,
   "id": "8197faad-5bf7-4eaa-b817-597ff0419ab9",
   "metadata": {},
   "outputs": [],
   "source": [
    "# New column for the polarity\n",
    "piggy_data['polarity'] = piggy_data['review'].apply(reviewPolarity)"
   ]
  },
  {
   "cell_type": "code",
   "execution_count": 12,
   "id": "61347030-71a8-4b47-9faa-455310ee8480",
   "metadata": {},
   "outputs": [
    {
     "data": {
      "text/html": [
       "<div>\n",
       "<style scoped>\n",
       "    .dataframe tbody tr th:only-of-type {\n",
       "        vertical-align: middle;\n",
       "    }\n",
       "\n",
       "    .dataframe tbody tr th {\n",
       "        vertical-align: top;\n",
       "    }\n",
       "\n",
       "    .dataframe thead th {\n",
       "        text-align: right;\n",
       "    }\n",
       "</style>\n",
       "<table border=\"1\" class=\"dataframe\">\n",
       "  <thead>\n",
       "    <tr style=\"text-align: right;\">\n",
       "      <th></th>\n",
       "      <th>reviewId</th>\n",
       "      <th>userName</th>\n",
       "      <th>userImage</th>\n",
       "      <th>content</th>\n",
       "      <th>score</th>\n",
       "      <th>thumbsUpCount</th>\n",
       "      <th>reviewCreatedVersion</th>\n",
       "      <th>at</th>\n",
       "      <th>replyContent</th>\n",
       "      <th>repliedAt</th>\n",
       "      <th>review</th>\n",
       "      <th>subjectivity</th>\n",
       "      <th>polarity</th>\n",
       "    </tr>\n",
       "  </thead>\n",
       "  <tbody>\n",
       "    <tr>\n",
       "      <th>0</th>\n",
       "      <td>c182640a-6ebe-4df7-8844-c200cefa8502</td>\n",
       "      <td>Praise Yusufu</td>\n",
       "      <td>https://play-lh.googleusercontent.com/a-/ACNPE...</td>\n",
       "      <td>I'm very pleased with this app..I've been usin...</td>\n",
       "      <td>4</td>\n",
       "      <td>155</td>\n",
       "      <td>4.6.0</td>\n",
       "      <td>2022-08-24 00:35:02</td>\n",
       "      <td>NaN</td>\n",
       "      <td>NaN</td>\n",
       "      <td>i'm pleas app..i'v use sinc i'v never look bac...</td>\n",
       "      <td>0.350000</td>\n",
       "      <td>0.012500</td>\n",
       "    </tr>\n",
       "    <tr>\n",
       "      <th>1</th>\n",
       "      <td>2f37c59f-5bf2-4c9d-b577-3646242e5c4e</td>\n",
       "      <td>A Google user</td>\n",
       "      <td>https://play-lh.googleusercontent.com/EGemoI2N...</td>\n",
       "      <td>Result of my review on PiggyVest's mobile appl...</td>\n",
       "      <td>5</td>\n",
       "      <td>334</td>\n",
       "      <td>4.0.1</td>\n",
       "      <td>2020-03-29 21:56:27</td>\n",
       "      <td>NaN</td>\n",
       "      <td>NaN</td>\n",
       "      <td>result review piggyvest' mobil application. si...</td>\n",
       "      <td>0.308333</td>\n",
       "      <td>0.262500</td>\n",
       "    </tr>\n",
       "    <tr>\n",
       "      <th>2</th>\n",
       "      <td>5e9e7362-2150-4680-90d8-e49895b97abe</td>\n",
       "      <td>A Google user</td>\n",
       "      <td>https://play-lh.googleusercontent.com/EGemoI2N...</td>\n",
       "      <td>The beauty of an application or software is it...</td>\n",
       "      <td>5</td>\n",
       "      <td>277</td>\n",
       "      <td>4.0.1</td>\n",
       "      <td>2020-04-02 08:07:15</td>\n",
       "      <td>NaN</td>\n",
       "      <td>NaN</td>\n",
       "      <td>beauti applic softwar abil solv intend purpos ...</td>\n",
       "      <td>0.433333</td>\n",
       "      <td>0.533333</td>\n",
       "    </tr>\n",
       "    <tr>\n",
       "      <th>3</th>\n",
       "      <td>f1dafc5a-4bf9-4a15-8a9f-f29c65a7f2ec</td>\n",
       "      <td>Precious Sobamiwa</td>\n",
       "      <td>https://play-lh.googleusercontent.com/a-/ACNPE...</td>\n",
       "      <td>Awesome!!! Use this to save, its amazing... Th...</td>\n",
       "      <td>5</td>\n",
       "      <td>226</td>\n",
       "      <td>4.5.0</td>\n",
       "      <td>2020-11-03 01:37:33</td>\n",
       "      <td>NaN</td>\n",
       "      <td>NaN</td>\n",
       "      <td>awesome!!! use save, amazing... there' bank ch...</td>\n",
       "      <td>0.650909</td>\n",
       "      <td>0.647273</td>\n",
       "    </tr>\n",
       "    <tr>\n",
       "      <th>4</th>\n",
       "      <td>614f37de-24f7-4041-84fc-3044fb7b5f85</td>\n",
       "      <td>A Google user</td>\n",
       "      <td>https://play-lh.googleusercontent.com/EGemoI2N...</td>\n",
       "      <td>Each update increase the complexity of the app...</td>\n",
       "      <td>4</td>\n",
       "      <td>54</td>\n",
       "      <td>4.0.1</td>\n",
       "      <td>2020-01-02 10:48:51</td>\n",
       "      <td>NaN</td>\n",
       "      <td>NaN</td>\n",
       "      <td>updat increas complex application. becom diffi...</td>\n",
       "      <td>0.550000</td>\n",
       "      <td>-0.266667</td>\n",
       "    </tr>\n",
       "  </tbody>\n",
       "</table>\n",
       "</div>"
      ],
      "text/plain": [
       "                               reviewId           userName  \\\n",
       "0  c182640a-6ebe-4df7-8844-c200cefa8502      Praise Yusufu   \n",
       "1  2f37c59f-5bf2-4c9d-b577-3646242e5c4e      A Google user   \n",
       "2  5e9e7362-2150-4680-90d8-e49895b97abe      A Google user   \n",
       "3  f1dafc5a-4bf9-4a15-8a9f-f29c65a7f2ec  Precious Sobamiwa   \n",
       "4  614f37de-24f7-4041-84fc-3044fb7b5f85      A Google user   \n",
       "\n",
       "                                           userImage  \\\n",
       "0  https://play-lh.googleusercontent.com/a-/ACNPE...   \n",
       "1  https://play-lh.googleusercontent.com/EGemoI2N...   \n",
       "2  https://play-lh.googleusercontent.com/EGemoI2N...   \n",
       "3  https://play-lh.googleusercontent.com/a-/ACNPE...   \n",
       "4  https://play-lh.googleusercontent.com/EGemoI2N...   \n",
       "\n",
       "                                             content  score  thumbsUpCount  \\\n",
       "0  I'm very pleased with this app..I've been usin...      4            155   \n",
       "1  Result of my review on PiggyVest's mobile appl...      5            334   \n",
       "2  The beauty of an application or software is it...      5            277   \n",
       "3  Awesome!!! Use this to save, its amazing... Th...      5            226   \n",
       "4  Each update increase the complexity of the app...      4             54   \n",
       "\n",
       "  reviewCreatedVersion                   at replyContent repliedAt  \\\n",
       "0                4.6.0  2022-08-24 00:35:02          NaN       NaN   \n",
       "1                4.0.1  2020-03-29 21:56:27          NaN       NaN   \n",
       "2                4.0.1  2020-04-02 08:07:15          NaN       NaN   \n",
       "3                4.5.0  2020-11-03 01:37:33          NaN       NaN   \n",
       "4                4.0.1  2020-01-02 10:48:51          NaN       NaN   \n",
       "\n",
       "                                              review  subjectivity  polarity  \n",
       "0  i'm pleas app..i'v use sinc i'v never look bac...      0.350000  0.012500  \n",
       "1  result review piggyvest' mobil application. si...      0.308333  0.262500  \n",
       "2  beauti applic softwar abil solv intend purpos ...      0.433333  0.533333  \n",
       "3  awesome!!! use save, amazing... there' bank ch...      0.650909  0.647273  \n",
       "4  updat increas complex application. becom diffi...      0.550000 -0.266667  "
      ]
     },
     "execution_count": 12,
     "metadata": {},
     "output_type": "execute_result"
    }
   ],
   "source": [
    "piggy_data.head()"
   ]
  },
  {
   "cell_type": "code",
   "execution_count": 16,
   "id": "1cb64654-00f5-448f-8428-f757f3cb1cd5",
   "metadata": {},
   "outputs": [
    {
     "data": {
      "image/png": "[encoded data removed]",
      "text/plain": [
       "<Figure size 432x288 with 1 Axes>"
      ]
     },
     "metadata": {},
     "output_type": "display_data"
    }
   ],
   "source": [
    "# Create a word cloud for the tweet which will visualize the frequently used words\n",
    "alltexts = ' '.join([word for word in piggy_data['review']])\n",
    "wordcloud = WordCloud(width = 700, height = 500, random_state = 21, max_font_size = 120, colormap='Blues', stopwords = ['piggyvest', 'piggy', 'vest', 'app', 'https', 'http']).generate(alltexts)\n",
    "plt.imshow(wordcloud, interpolation = 'bilinear')\n",
    "plt.axis('off')\n",
    "plt.title('Word Cloud For Piggyvest Reviews')\n",
    "plt.show()"
   ]
  },
  {
   "cell_type": "code",
   "execution_count": 17,
   "id": "cfea3da9-bdda-405b-ab72-3cb78b4fd26d",
   "metadata": {},
   "outputs": [],
   "source": [
    "# Create a function to compute the negative, neutral and politive analysis\n",
    "def polarityAnalysis(score):\n",
    "  if score < 0:\n",
    "    return 'Negative'\n",
    "  elif score == 0:\n",
    "    return 'Neutral'\n",
    "  else:\n",
    "    return 'Positive'"
   ]
  },
  {
   "cell_type": "code",
   "execution_count": 18,
   "id": "24a080a9-a458-4c45-ad2c-b2262b1a4cdc",
   "metadata": {},
   "outputs": [],
   "source": [
    "# Create new column that checks the analysis of the polarity\n",
    "piggy_data['Analysis'] = piggy_data['polarity'].apply(polarityAnalysis)"
   ]
  },
  {
   "cell_type": "code",
   "execution_count": 19,
   "id": "afb9227d-1809-4174-a716-2ceb980721ab",
   "metadata": {},
   "outputs": [
    {
     "data": {
      "text/html": [
       "<div>\n",
       "<style scoped>\n",
       "    .dataframe tbody tr th:only-of-type {\n",
       "        vertical-align: middle;\n",
       "    }\n",
       "\n",
       "    .dataframe tbody tr th {\n",
       "        vertical-align: top;\n",
       "    }\n",
       "\n",
       "    .dataframe thead th {\n",
       "        text-align: right;\n",
       "    }\n",
       "</style>\n",
       "<table border=\"1\" class=\"dataframe\">\n",
       "  <thead>\n",
       "    <tr style=\"text-align: right;\">\n",
       "      <th></th>\n",
       "      <th>reviewId</th>\n",
       "      <th>userName</th>\n",
       "      <th>userImage</th>\n",
       "      <th>content</th>\n",
       "      <th>score</th>\n",
       "      <th>thumbsUpCount</th>\n",
       "      <th>reviewCreatedVersion</th>\n",
       "      <th>at</th>\n",
       "      <th>replyContent</th>\n",
       "      <th>repliedAt</th>\n",
       "      <th>review</th>\n",
       "      <th>subjectivity</th>\n",
       "      <th>polarity</th>\n",
       "      <th>Analysis</th>\n",
       "    </tr>\n",
       "  </thead>\n",
       "  <tbody>\n",
       "    <tr>\n",
       "      <th>0</th>\n",
       "      <td>c182640a-6ebe-4df7-8844-c200cefa8502</td>\n",
       "      <td>Praise Yusufu</td>\n",
       "      <td>https://play-lh.googleusercontent.com/a-/ACNPE...</td>\n",
       "      <td>I'm very pleased with this app..I've been usin...</td>\n",
       "      <td>4</td>\n",
       "      <td>155</td>\n",
       "      <td>4.6.0</td>\n",
       "      <td>2022-08-24 00:35:02</td>\n",
       "      <td>NaN</td>\n",
       "      <td>NaN</td>\n",
       "      <td>i'm pleas app..i'v use sinc i'v never look bac...</td>\n",
       "      <td>0.350000</td>\n",
       "      <td>0.012500</td>\n",
       "      <td>Positive</td>\n",
       "    </tr>\n",
       "    <tr>\n",
       "      <th>1</th>\n",
       "      <td>2f37c59f-5bf2-4c9d-b577-3646242e5c4e</td>\n",
       "      <td>A Google user</td>\n",
       "      <td>https://play-lh.googleusercontent.com/EGemoI2N...</td>\n",
       "      <td>Result of my review on PiggyVest's mobile appl...</td>\n",
       "      <td>5</td>\n",
       "      <td>334</td>\n",
       "      <td>4.0.1</td>\n",
       "      <td>2020-03-29 21:56:27</td>\n",
       "      <td>NaN</td>\n",
       "      <td>NaN</td>\n",
       "      <td>result review piggyvest' mobil application. si...</td>\n",
       "      <td>0.308333</td>\n",
       "      <td>0.262500</td>\n",
       "      <td>Positive</td>\n",
       "    </tr>\n",
       "    <tr>\n",
       "      <th>2</th>\n",
       "      <td>5e9e7362-2150-4680-90d8-e49895b97abe</td>\n",
       "      <td>A Google user</td>\n",
       "      <td>https://play-lh.googleusercontent.com/EGemoI2N...</td>\n",
       "      <td>The beauty of an application or software is it...</td>\n",
       "      <td>5</td>\n",
       "      <td>277</td>\n",
       "      <td>4.0.1</td>\n",
       "      <td>2020-04-02 08:07:15</td>\n",
       "      <td>NaN</td>\n",
       "      <td>NaN</td>\n",
       "      <td>beauti applic softwar abil solv intend purpos ...</td>\n",
       "      <td>0.433333</td>\n",
       "      <td>0.533333</td>\n",
       "      <td>Positive</td>\n",
       "    </tr>\n",
       "    <tr>\n",
       "      <th>3</th>\n",
       "      <td>f1dafc5a-4bf9-4a15-8a9f-f29c65a7f2ec</td>\n",
       "      <td>Precious Sobamiwa</td>\n",
       "      <td>https://play-lh.googleusercontent.com/a-/ACNPE...</td>\n",
       "      <td>Awesome!!! Use this to save, its amazing... Th...</td>\n",
       "      <td>5</td>\n",
       "      <td>226</td>\n",
       "      <td>4.5.0</td>\n",
       "      <td>2020-11-03 01:37:33</td>\n",
       "      <td>NaN</td>\n",
       "      <td>NaN</td>\n",
       "      <td>awesome!!! use save, amazing... there' bank ch...</td>\n",
       "      <td>0.650909</td>\n",
       "      <td>0.647273</td>\n",
       "      <td>Positive</td>\n",
       "    </tr>\n",
       "    <tr>\n",
       "      <th>4</th>\n",
       "      <td>614f37de-24f7-4041-84fc-3044fb7b5f85</td>\n",
       "      <td>A Google user</td>\n",
       "      <td>https://play-lh.googleusercontent.com/EGemoI2N...</td>\n",
       "      <td>Each update increase the complexity of the app...</td>\n",
       "      <td>4</td>\n",
       "      <td>54</td>\n",
       "      <td>4.0.1</td>\n",
       "      <td>2020-01-02 10:48:51</td>\n",
       "      <td>NaN</td>\n",
       "      <td>NaN</td>\n",
       "      <td>updat increas complex application. becom diffi...</td>\n",
       "      <td>0.550000</td>\n",
       "      <td>-0.266667</td>\n",
       "      <td>Negative</td>\n",
       "    </tr>\n",
       "  </tbody>\n",
       "</table>\n",
       "</div>"
      ],
      "text/plain": [
       "                               reviewId           userName  \\\n",
       "0  c182640a-6ebe-4df7-8844-c200cefa8502      Praise Yusufu   \n",
       "1  2f37c59f-5bf2-4c9d-b577-3646242e5c4e      A Google user   \n",
       "2  5e9e7362-2150-4680-90d8-e49895b97abe      A Google user   \n",
       "3  f1dafc5a-4bf9-4a15-8a9f-f29c65a7f2ec  Precious Sobamiwa   \n",
       "4  614f37de-24f7-4041-84fc-3044fb7b5f85      A Google user   \n",
       "\n",
       "                                           userImage  \\\n",
       "0  https://play-lh.googleusercontent.com/a-/ACNPE...   \n",
       "1  https://play-lh.googleusercontent.com/EGemoI2N...   \n",
       "2  https://play-lh.googleusercontent.com/EGemoI2N...   \n",
       "3  https://play-lh.googleusercontent.com/a-/ACNPE...   \n",
       "4  https://play-lh.googleusercontent.com/EGemoI2N...   \n",
       "\n",
       "                                             content  score  thumbsUpCount  \\\n",
       "0  I'm very pleased with this app..I've been usin...      4            155   \n",
       "1  Result of my review on PiggyVest's mobile appl...      5            334   \n",
       "2  The beauty of an application or software is it...      5            277   \n",
       "3  Awesome!!! Use this to save, its amazing... Th...      5            226   \n",
       "4  Each update increase the complexity of the app...      4             54   \n",
       "\n",
       "  reviewCreatedVersion                   at replyContent repliedAt  \\\n",
       "0                4.6.0  2022-08-24 00:35:02          NaN       NaN   \n",
       "1                4.0.1  2020-03-29 21:56:27          NaN       NaN   \n",
       "2                4.0.1  2020-04-02 08:07:15          NaN       NaN   \n",
       "3                4.5.0  2020-11-03 01:37:33          NaN       NaN   \n",
       "4                4.0.1  2020-01-02 10:48:51          NaN       NaN   \n",
       "\n",
       "                                              review  subjectivity  polarity  \\\n",
       "0  i'm pleas app..i'v use sinc i'v never look bac...      0.350000  0.012500   \n",
       "1  result review piggyvest' mobil application. si...      0.308333  0.262500   \n",
       "2  beauti applic softwar abil solv intend purpos ...      0.433333  0.533333   \n",
       "3  awesome!!! use save, amazing... there' bank ch...      0.650909  0.647273   \n",
       "4  updat increas complex application. becom diffi...      0.550000 -0.266667   \n",
       "\n",
       "   Analysis  \n",
       "0  Positive  \n",
       "1  Positive  \n",
       "2  Positive  \n",
       "3  Positive  \n",
       "4  Negative  "
      ]
     },
     "execution_count": 19,
     "metadata": {},
     "output_type": "execute_result"
    }
   ],
   "source": [
    "piggy_data.head()"
   ]
  },
  {
   "cell_type": "code",
   "execution_count": 20,
   "id": "a54b284d-565c-4369-abe3-e13cf3c9e08b",
   "metadata": {},
   "outputs": [
    {
     "data": {
      "image/png": "[encoded data removed]",
      "text/plain": [
       "<Figure size 576x360 with 1 Axes>"
      ]
     },
     "metadata": {},
     "output_type": "display_data"
    }
   ],
   "source": [
    "# Plot a scatter plot of the polarity and subjectivity of the tweets\n",
    "plt.figure(figsize=(8,5))\n",
    "plt.scatter(piggy_data['polarity'], piggy_data['subjectivity'], c =\"yellow\",\n",
    "            linewidths = 2,\n",
    "            marker =\"^\",\n",
    "            edgecolor =\"red\",\n",
    "            s = 200)\n",
    "\n",
    "plt.title('Sentiment Analysis of Piggyvest Reviews')\n",
    "plt.xlabel('Polarity')\n",
    "plt.ylabel('Subjectivity')\n",
    "plt.show()"
   ]
  },
  {
   "cell_type": "code",
   "execution_count": 21,
   "id": "1a792d8b-a47d-479f-9765-ab719d5c43a0",
   "metadata": {},
   "outputs": [
    {
     "data": {
      "image/png": "[encoded data removed]",
      "text/plain": [
       "<Figure size 432x288 with 1 Axes>"
      ]
     },
     "metadata": {},
     "output_type": "display_data"
    }
   ],
   "source": [
    "piggy_data['Analysis'].value_counts()\n",
    "\n",
    "plt.title('Sentiment Analysis Polarity Counts')\n",
    "plt.xlabel('Sentiment')\n",
    "plt.ylabel('Counts')\n",
    "piggy_data['Analysis'].value_counts().plot(kind = 'bar')\n",
    "plt.show()"
   ]
  },
  {
   "cell_type": "code",
   "execution_count": 22,
   "id": "04253ea8-9226-41b5-a300-a3b08c2d04d2",
   "metadata": {},
   "outputs": [],
   "source": [
    "# Create a function to compute the label column. Every polarity greater than zero is positive while rating less than or equal to zero is negative\n",
    "def ratingPolarity(rating):\n",
    "  if rating > 0:\n",
    "    return 1\n",
    "  else:\n",
    "    return 0"
   ]
  },
  {
   "cell_type": "code",
   "execution_count": 23,
   "id": "ae6745ce-a069-4bb4-8601-fd53552bff40",
   "metadata": {},
   "outputs": [],
   "source": [
    "piggy_data['binaryrating'] = piggy_data['polarity'].apply(ratingPolarity)"
   ]
  },
  {
   "cell_type": "code",
   "execution_count": 24,
   "id": "0228f01d-bcbc-416d-8fea-7d69afcee892",
   "metadata": {},
   "outputs": [
    {
     "data": {
      "image/png": "[encoded data removed]",
      "text/plain": [
       "<Figure size 432x288 with 1 Axes>"
      ]
     },
     "metadata": {},
     "output_type": "display_data"
    }
   ],
   "source": [
    "piggy_data['binaryrating'].value_counts()\n",
    "\n",
    "plt.title('Analysing The Sampling of The Binary Rating')\n",
    "plt.xlabel('Satisfied')\n",
    "plt.ylabel('Counts')\n",
    "piggy_data['binaryrating'].value_counts().plot(kind = 'bar')\n",
    "plt.show()"
   ]
  },
  {
   "cell_type": "code",
   "execution_count": 25,
   "id": "605aa7ec-5d1c-4eff-8f24-cca4a2e455c3",
   "metadata": {},
   "outputs": [],
   "source": [
    "# Drop all columns that are not needed for the analysis or decision making\n",
    "piggy_data.drop([\"repliedAt\", \"replyContent\", \"reviewCreatedVersion\", \"userImage\" ], axis = 1, inplace=True)"
   ]
  },
  {
   "cell_type": "code",
   "execution_count": 26,
   "id": "db561c03-4df8-46ba-8ea4-c495075aca6f",
   "metadata": {},
   "outputs": [
    {
     "data": {
      "text/html": [
       "<div>\n",
       "<style scoped>\n",
       "    .dataframe tbody tr th:only-of-type {\n",
       "        vertical-align: middle;\n",
       "    }\n",
       "\n",
       "    .dataframe tbody tr th {\n",
       "        vertical-align: top;\n",
       "    }\n",
       "\n",
       "    .dataframe thead th {\n",
       "        text-align: right;\n",
       "    }\n",
       "</style>\n",
       "<table border=\"1\" class=\"dataframe\">\n",
       "  <thead>\n",
       "    <tr style=\"text-align: right;\">\n",
       "      <th></th>\n",
       "      <th>reviewId</th>\n",
       "      <th>userName</th>\n",
       "      <th>content</th>\n",
       "      <th>score</th>\n",
       "      <th>thumbsUpCount</th>\n",
       "      <th>at</th>\n",
       "      <th>review</th>\n",
       "      <th>subjectivity</th>\n",
       "      <th>polarity</th>\n",
       "      <th>Analysis</th>\n",
       "      <th>binaryrating</th>\n",
       "    </tr>\n",
       "  </thead>\n",
       "  <tbody>\n",
       "    <tr>\n",
       "      <th>0</th>\n",
       "      <td>c182640a-6ebe-4df7-8844-c200cefa8502</td>\n",
       "      <td>Praise Yusufu</td>\n",
       "      <td>I'm very pleased with this app..I've been usin...</td>\n",
       "      <td>4</td>\n",
       "      <td>155</td>\n",
       "      <td>2022-08-24 00:35:02</td>\n",
       "      <td>i'm pleas app..i'v use sinc i'v never look bac...</td>\n",
       "      <td>0.350000</td>\n",
       "      <td>0.012500</td>\n",
       "      <td>Positive</td>\n",
       "      <td>1</td>\n",
       "    </tr>\n",
       "    <tr>\n",
       "      <th>1</th>\n",
       "      <td>2f37c59f-5bf2-4c9d-b577-3646242e5c4e</td>\n",
       "      <td>A Google user</td>\n",
       "      <td>Result of my review on PiggyVest's mobile appl...</td>\n",
       "      <td>5</td>\n",
       "      <td>334</td>\n",
       "      <td>2020-03-29 21:56:27</td>\n",
       "      <td>result review piggyvest' mobil application. si...</td>\n",
       "      <td>0.308333</td>\n",
       "      <td>0.262500</td>\n",
       "      <td>Positive</td>\n",
       "      <td>1</td>\n",
       "    </tr>\n",
       "    <tr>\n",
       "      <th>2</th>\n",
       "      <td>5e9e7362-2150-4680-90d8-e49895b97abe</td>\n",
       "      <td>A Google user</td>\n",
       "      <td>The beauty of an application or software is it...</td>\n",
       "      <td>5</td>\n",
       "      <td>277</td>\n",
       "      <td>2020-04-02 08:07:15</td>\n",
       "      <td>beauti applic softwar abil solv intend purpos ...</td>\n",
       "      <td>0.433333</td>\n",
       "      <td>0.533333</td>\n",
       "      <td>Positive</td>\n",
       "      <td>1</td>\n",
       "    </tr>\n",
       "    <tr>\n",
       "      <th>3</th>\n",
       "      <td>f1dafc5a-4bf9-4a15-8a9f-f29c65a7f2ec</td>\n",
       "      <td>Precious Sobamiwa</td>\n",
       "      <td>Awesome!!! Use this to save, its amazing... Th...</td>\n",
       "      <td>5</td>\n",
       "      <td>226</td>\n",
       "      <td>2020-11-03 01:37:33</td>\n",
       "      <td>awesome!!! use save, amazing... there' bank ch...</td>\n",
       "      <td>0.650909</td>\n",
       "      <td>0.647273</td>\n",
       "      <td>Positive</td>\n",
       "      <td>1</td>\n",
       "    </tr>\n",
       "    <tr>\n",
       "      <th>4</th>\n",
       "      <td>614f37de-24f7-4041-84fc-3044fb7b5f85</td>\n",
       "      <td>A Google user</td>\n",
       "      <td>Each update increase the complexity of the app...</td>\n",
       "      <td>4</td>\n",
       "      <td>54</td>\n",
       "      <td>2020-01-02 10:48:51</td>\n",
       "      <td>updat increas complex application. becom diffi...</td>\n",
       "      <td>0.550000</td>\n",
       "      <td>-0.266667</td>\n",
       "      <td>Negative</td>\n",
       "      <td>0</td>\n",
       "    </tr>\n",
       "  </tbody>\n",
       "</table>\n",
       "</div>"
      ],
      "text/plain": [
       "                               reviewId           userName  \\\n",
       "0  c182640a-6ebe-4df7-8844-c200cefa8502      Praise Yusufu   \n",
       "1  2f37c59f-5bf2-4c9d-b577-3646242e5c4e      A Google user   \n",
       "2  5e9e7362-2150-4680-90d8-e49895b97abe      A Google user   \n",
       "3  f1dafc5a-4bf9-4a15-8a9f-f29c65a7f2ec  Precious Sobamiwa   \n",
       "4  614f37de-24f7-4041-84fc-3044fb7b5f85      A Google user   \n",
       "\n",
       "                                             content  score  thumbsUpCount  \\\n",
       "0  I'm very pleased with this app..I've been usin...      4            155   \n",
       "1  Result of my review on PiggyVest's mobile appl...      5            334   \n",
       "2  The beauty of an application or software is it...      5            277   \n",
       "3  Awesome!!! Use this to save, its amazing... Th...      5            226   \n",
       "4  Each update increase the complexity of the app...      4             54   \n",
       "\n",
       "                    at                                             review  \\\n",
       "0  2022-08-24 00:35:02  i'm pleas app..i'v use sinc i'v never look bac...   \n",
       "1  2020-03-29 21:56:27  result review piggyvest' mobil application. si...   \n",
       "2  2020-04-02 08:07:15  beauti applic softwar abil solv intend purpos ...   \n",
       "3  2020-11-03 01:37:33  awesome!!! use save, amazing... there' bank ch...   \n",
       "4  2020-01-02 10:48:51  updat increas complex application. becom diffi...   \n",
       "\n",
       "   subjectivity  polarity  Analysis  binaryrating  \n",
       "0      0.350000  0.012500  Positive             1  \n",
       "1      0.308333  0.262500  Positive             1  \n",
       "2      0.433333  0.533333  Positive             1  \n",
       "3      0.650909  0.647273  Positive             1  \n",
       "4      0.550000 -0.266667  Negative             0  "
      ]
     },
     "execution_count": 26,
     "metadata": {},
     "output_type": "execute_result"
    }
   ],
   "source": [
    "piggy_data.head()"
   ]
  },
  {
   "cell_type": "code",
   "execution_count": 27,
   "id": "126b9dbc-beaa-47fe-9e04-af75da5787f5",
   "metadata": {},
   "outputs": [],
   "source": [
    "cv = CountVectorizer(max_features = 1420)"
   ]
  },
  {
   "cell_type": "code",
   "execution_count": 28,
   "id": "205aebcd-479f-4e2a-802c-20f911b9daf0",
   "metadata": {},
   "outputs": [],
   "source": [
    "X = cv.fit_transform(piggy_data['review']).toarray()\n",
    "y = piggy_data['binaryrating']"
   ]
  },
  {
   "cell_type": "code",
   "execution_count": 29,
   "id": "c190d0c6-c138-4b5c-a488-6b70983612dc",
   "metadata": {},
   "outputs": [],
   "source": [
    "# Saving BoW dictionary for later use in prediction\n",
    "import pickle\n",
    "bow_path = 'BagOfWordSentiment_Model.pkl'\n",
    "pickle.dump(cv, open(bow_path, \"wb\"))"
   ]
  },
  {
   "cell_type": "code",
   "execution_count": 30,
   "id": "b6030a54-04f4-4ca5-a57f-590ae46f6847",
   "metadata": {},
   "outputs": [],
   "source": [
    "#Splitting the data into train and test data\n",
    "X_train, X_test, y_train, y_test = train_test_split(X, y, test_size = 0.20, random_state = 0)"
   ]
  },
  {
   "cell_type": "code",
   "execution_count": 31,
   "id": "a9e10a41-1658-47b2-9025-68c928b16091",
   "metadata": {},
   "outputs": [],
   "source": [
    "classifier = GaussianNB()"
   ]
  },
  {
   "cell_type": "markdown",
   "id": "3d65b6d1",
   "metadata": {},
   "source": [
    "## Using Naive Bayes For Classification"
   ]
  },
  {
   "cell_type": "code",
   "execution_count": 32,
   "id": "6d13751c-346f-4933-abe3-f47172c2dc6e",
   "metadata": {},
   "outputs": [
    {
     "data": {
      "text/plain": [
       "GaussianNB()"
      ]
     },
     "execution_count": 32,
     "metadata": {},
     "output_type": "execute_result"
    }
   ],
   "source": [
    "classifier.fit(X_train, y_train)"
   ]
  },
  {
   "cell_type": "code",
   "execution_count": 33,
   "id": "9c30d1f4-f0d7-4a66-ae19-13d60f559a4e",
   "metadata": {},
   "outputs": [
    {
     "name": "stdout",
     "output_type": "stream",
     "text": [
      "[[1380  166]\n",
      " [1687 1087]]\n"
     ]
    },
    {
     "data": {
      "text/plain": [
       "0.5710648148148149"
      ]
     },
     "execution_count": 33,
     "metadata": {},
     "output_type": "execute_result"
    }
   ],
   "source": [
    "# Run the test dataset\n",
    "y_pred = classifier.predict(X_test)\n",
    "\n",
    "\n",
    "conf_matrix = confusion_matrix(y_test, y_pred)\n",
    "print(conf_matrix)\n",
    "\n",
    "accuracy_score(y_test, y_pred)"
   ]
  },
  {
   "cell_type": "code",
   "execution_count": 34,
   "id": "afec983b-b7e8-47e8-ae31-7266835791d9",
   "metadata": {},
   "outputs": [
    {
     "name": "stdout",
     "output_type": "stream",
     "text": [
      "              precision    recall  f1-score   support\n",
      "\n",
      "           0       0.45      0.89      0.60      1546\n",
      "           1       0.87      0.39      0.54      2774\n",
      "\n",
      "    accuracy                           0.57      4320\n",
      "   macro avg       0.66      0.64      0.57      4320\n",
      "weighted avg       0.72      0.57      0.56      4320\n",
      "\n"
     ]
    }
   ],
   "source": [
    "clrp = classification_report(y_test, y_pred)\n",
    "print(clrp)"
   ]
  },
  {
   "cell_type": "markdown",
   "id": "5892bcf7",
   "metadata": {},
   "source": [
    "## Using Support Vector Classifier"
   ]
  },
  {
   "cell_type": "code",
   "execution_count": 37,
   "id": "e2a49168",
   "metadata": {},
   "outputs": [],
   "source": [
    "svc = svm.SVC(kernel='linear', C=1, gamma='auto').fit(X_train, y_train)"
   ]
  },
  {
   "cell_type": "code",
   "execution_count": 53,
   "id": "1039a3bd",
   "metadata": {},
   "outputs": [],
   "source": [
    "y_pred = svc.predict(X_test)"
   ]
  },
  {
   "cell_type": "code",
   "execution_count": 54,
   "id": "a9d6ddab",
   "metadata": {},
   "outputs": [
    {
     "data": {
      "text/plain": [
       "array([1, 0, 1, ..., 0, 1, 1], dtype=int64)"
      ]
     },
     "execution_count": 54,
     "metadata": {},
     "output_type": "execute_result"
    }
   ],
   "source": [
    "y_pred"
   ]
  },
  {
   "cell_type": "code",
   "execution_count": 38,
   "id": "96fefd2e",
   "metadata": {},
   "outputs": [
    {
     "name": "stdout",
     "output_type": "stream",
     "text": [
      "[[1482   64]\n",
      " [  55 2719]]\n"
     ]
    },
    {
     "data": {
      "text/plain": [
       "0.9724537037037037"
      ]
     },
     "execution_count": 38,
     "metadata": {},
     "output_type": "execute_result"
    }
   ],
   "source": [
    "\n",
    "\n",
    "\n",
    "conf_matrix = confusion_matrix(y_test, y_pred)\n",
    "print(conf_matrix)\n",
    "\n",
    "accuracy_score(y_test, y_pred)"
   ]
  },
  {
   "cell_type": "markdown",
   "id": "11de9c6f-466c-4b1b-8bf6-b0f2fe4fdfac",
   "metadata": {},
   "source": [
    "## Hiperparameter Tuning For Naive Bayes"
   ]
  },
  {
   "cell_type": "code",
   "execution_count": 39,
   "id": "f737b4e9-f365-4612-8438-fce2d2f5d689",
   "metadata": {},
   "outputs": [
    {
     "data": {
      "text/plain": [
       "GridSearchCV(cv=10, estimator=GaussianNB(), n_jobs=-1,\n",
       "             param_grid={'var_smoothing': array([1.00000000e+00, 8.11130831e-01, 6.57933225e-01, 5.33669923e-01,\n",
       "       4.32876128e-01, 3.51119173e-01, 2.84803587e-01, 2.31012970e-01,\n",
       "       1.87381742e-01, 1.51991108e-01, 1.23284674e-01, 1.00000000e-01,\n",
       "       8.11130831e-02, 6.57933225e-02, 5.33669923e-02, 4.32876128e-02,\n",
       "       3.51119173e-02, 2.848035...\n",
       "       1.23284674e-07, 1.00000000e-07, 8.11130831e-08, 6.57933225e-08,\n",
       "       5.33669923e-08, 4.32876128e-08, 3.51119173e-08, 2.84803587e-08,\n",
       "       2.31012970e-08, 1.87381742e-08, 1.51991108e-08, 1.23284674e-08,\n",
       "       1.00000000e-08, 8.11130831e-09, 6.57933225e-09, 5.33669923e-09,\n",
       "       4.32876128e-09, 3.51119173e-09, 2.84803587e-09, 2.31012970e-09,\n",
       "       1.87381742e-09, 1.51991108e-09, 1.23284674e-09, 1.00000000e-09])},\n",
       "             scoring='roc_auc')"
      ]
     },
     "execution_count": 39,
     "metadata": {},
     "output_type": "execute_result"
    }
   ],
   "source": [
    "#from sklearn.preprocessing import PowerTransformer\n",
    "from sklearn.model_selection import GridSearchCV\n",
    "#from sklearn.model_selection import RepeatedStratifiedKFold\n",
    "\n",
    "#Using roc_auc for scoring\n",
    "param_grid = {\n",
    "    \"var_smoothing\": np.logspace(0, -9, num = 100)\n",
    "}\n",
    "\n",
    "grid_search = GridSearchCV(classifier, param_grid, scoring='roc_auc', cv=10, n_jobs=-1)\n",
    "grid_search.fit(X_train, y_train)"
   ]
  },
  {
   "cell_type": "code",
   "execution_count": 40,
   "id": "f2056508-6e1c-4b7b-bffc-d6c74981565b",
   "metadata": {},
   "outputs": [],
   "source": [
    "grid_scores = grid_search.cv_results_"
   ]
  },
  {
   "cell_type": "code",
   "execution_count": 41,
   "id": "68c93eab-6b64-44ce-9678-3df18b764bc9",
   "metadata": {},
   "outputs": [
    {
     "data": {
      "text/html": [
       "<div>\n",
       "<style scoped>\n",
       "    .dataframe tbody tr th:only-of-type {\n",
       "        vertical-align: middle;\n",
       "    }\n",
       "\n",
       "    .dataframe tbody tr th {\n",
       "        vertical-align: top;\n",
       "    }\n",
       "\n",
       "    .dataframe thead th {\n",
       "        text-align: right;\n",
       "    }\n",
       "</style>\n",
       "<table border=\"1\" class=\"dataframe\">\n",
       "  <thead>\n",
       "    <tr style=\"text-align: right;\">\n",
       "      <th></th>\n",
       "      <th>mean_fit_time</th>\n",
       "      <th>std_fit_time</th>\n",
       "      <th>mean_score_time</th>\n",
       "      <th>std_score_time</th>\n",
       "      <th>param_var_smoothing</th>\n",
       "      <th>params</th>\n",
       "      <th>split0_test_score</th>\n",
       "      <th>split1_test_score</th>\n",
       "      <th>split2_test_score</th>\n",
       "      <th>split3_test_score</th>\n",
       "      <th>split4_test_score</th>\n",
       "      <th>split5_test_score</th>\n",
       "      <th>split6_test_score</th>\n",
       "      <th>split7_test_score</th>\n",
       "      <th>split8_test_score</th>\n",
       "      <th>split9_test_score</th>\n",
       "      <th>mean_test_score</th>\n",
       "      <th>std_test_score</th>\n",
       "      <th>rank_test_score</th>\n",
       "    </tr>\n",
       "  </thead>\n",
       "  <tbody>\n",
       "    <tr>\n",
       "      <th>0</th>\n",
       "      <td>12.361948</td>\n",
       "      <td>2.982150</td>\n",
       "      <td>0.594011</td>\n",
       "      <td>0.307385</td>\n",
       "      <td>1.0</td>\n",
       "      <td>{'var_smoothing': 1.0}</td>\n",
       "      <td>0.895731</td>\n",
       "      <td>0.867815</td>\n",
       "      <td>0.875436</td>\n",
       "      <td>0.878578</td>\n",
       "      <td>0.890985</td>\n",
       "      <td>0.887384</td>\n",
       "      <td>0.882206</td>\n",
       "      <td>0.879664</td>\n",
       "      <td>0.894721</td>\n",
       "      <td>0.870880</td>\n",
       "      <td>0.882340</td>\n",
       "      <td>0.009187</td>\n",
       "      <td>32</td>\n",
       "    </tr>\n",
       "    <tr>\n",
       "      <th>1</th>\n",
       "      <td>5.541646</td>\n",
       "      <td>1.144893</td>\n",
       "      <td>0.495086</td>\n",
       "      <td>0.090049</td>\n",
       "      <td>0.811131</td>\n",
       "      <td>{'var_smoothing': 0.8111308307896871}</td>\n",
       "      <td>0.900810</td>\n",
       "      <td>0.874104</td>\n",
       "      <td>0.880087</td>\n",
       "      <td>0.885050</td>\n",
       "      <td>0.896750</td>\n",
       "      <td>0.894019</td>\n",
       "      <td>0.888977</td>\n",
       "      <td>0.885546</td>\n",
       "      <td>0.902185</td>\n",
       "      <td>0.877973</td>\n",
       "      <td>0.888550</td>\n",
       "      <td>0.009203</td>\n",
       "      <td>30</td>\n",
       "    </tr>\n",
       "    <tr>\n",
       "      <th>2</th>\n",
       "      <td>4.458699</td>\n",
       "      <td>1.018883</td>\n",
       "      <td>0.619698</td>\n",
       "      <td>0.215771</td>\n",
       "      <td>0.657933</td>\n",
       "      <td>{'var_smoothing': 0.657933224657568}</td>\n",
       "      <td>0.906258</td>\n",
       "      <td>0.880042</td>\n",
       "      <td>0.885014</td>\n",
       "      <td>0.891212</td>\n",
       "      <td>0.902011</td>\n",
       "      <td>0.900920</td>\n",
       "      <td>0.895512</td>\n",
       "      <td>0.891648</td>\n",
       "      <td>0.909177</td>\n",
       "      <td>0.884658</td>\n",
       "      <td>0.894645</td>\n",
       "      <td>0.009311</td>\n",
       "      <td>28</td>\n",
       "    </tr>\n",
       "    <tr>\n",
       "      <th>3</th>\n",
       "      <td>4.932815</td>\n",
       "      <td>0.670740</td>\n",
       "      <td>0.392817</td>\n",
       "      <td>0.135501</td>\n",
       "      <td>0.53367</td>\n",
       "      <td>{'var_smoothing': 0.533669923120631}</td>\n",
       "      <td>0.911858</td>\n",
       "      <td>0.885012</td>\n",
       "      <td>0.889728</td>\n",
       "      <td>0.897195</td>\n",
       "      <td>0.906922</td>\n",
       "      <td>0.907678</td>\n",
       "      <td>0.902452</td>\n",
       "      <td>0.896822</td>\n",
       "      <td>0.915736</td>\n",
       "      <td>0.891236</td>\n",
       "      <td>0.900464</td>\n",
       "      <td>0.009612</td>\n",
       "      <td>26</td>\n",
       "    </tr>\n",
       "    <tr>\n",
       "      <th>4</th>\n",
       "      <td>5.410079</td>\n",
       "      <td>1.096556</td>\n",
       "      <td>0.566255</td>\n",
       "      <td>0.269074</td>\n",
       "      <td>0.432876</td>\n",
       "      <td>{'var_smoothing': 0.43287612810830584}</td>\n",
       "      <td>0.917455</td>\n",
       "      <td>0.890736</td>\n",
       "      <td>0.894196</td>\n",
       "      <td>0.902588</td>\n",
       "      <td>0.912230</td>\n",
       "      <td>0.913174</td>\n",
       "      <td>0.908331</td>\n",
       "      <td>0.903233</td>\n",
       "      <td>0.922011</td>\n",
       "      <td>0.897418</td>\n",
       "      <td>0.906137</td>\n",
       "      <td>0.009738</td>\n",
       "      <td>24</td>\n",
       "    </tr>\n",
       "    <tr>\n",
       "      <th>...</th>\n",
       "      <td>...</td>\n",
       "      <td>...</td>\n",
       "      <td>...</td>\n",
       "      <td>...</td>\n",
       "      <td>...</td>\n",
       "      <td>...</td>\n",
       "      <td>...</td>\n",
       "      <td>...</td>\n",
       "      <td>...</td>\n",
       "      <td>...</td>\n",
       "      <td>...</td>\n",
       "      <td>...</td>\n",
       "      <td>...</td>\n",
       "      <td>...</td>\n",
       "      <td>...</td>\n",
       "      <td>...</td>\n",
       "      <td>...</td>\n",
       "      <td>...</td>\n",
       "      <td>...</td>\n",
       "    </tr>\n",
       "    <tr>\n",
       "      <th>95</th>\n",
       "      <td>4.169444</td>\n",
       "      <td>0.309068</td>\n",
       "      <td>0.707268</td>\n",
       "      <td>0.244167</td>\n",
       "      <td>0.0</td>\n",
       "      <td>{'var_smoothing': 2.310129700083158e-09}</td>\n",
       "      <td>0.864210</td>\n",
       "      <td>0.848929</td>\n",
       "      <td>0.842765</td>\n",
       "      <td>0.848756</td>\n",
       "      <td>0.859192</td>\n",
       "      <td>0.849175</td>\n",
       "      <td>0.850591</td>\n",
       "      <td>0.849542</td>\n",
       "      <td>0.860942</td>\n",
       "      <td>0.858088</td>\n",
       "      <td>0.853219</td>\n",
       "      <td>0.006513</td>\n",
       "      <td>49</td>\n",
       "    </tr>\n",
       "    <tr>\n",
       "      <th>96</th>\n",
       "      <td>4.696786</td>\n",
       "      <td>0.613848</td>\n",
       "      <td>0.679639</td>\n",
       "      <td>0.267196</td>\n",
       "      <td>0.0</td>\n",
       "      <td>{'var_smoothing': 1.873817422860387e-09}</td>\n",
       "      <td>0.866440</td>\n",
       "      <td>0.850052</td>\n",
       "      <td>0.844808</td>\n",
       "      <td>0.850095</td>\n",
       "      <td>0.860001</td>\n",
       "      <td>0.848450</td>\n",
       "      <td>0.850164</td>\n",
       "      <td>0.849521</td>\n",
       "      <td>0.862704</td>\n",
       "      <td>0.858583</td>\n",
       "      <td>0.854082</td>\n",
       "      <td>0.006844</td>\n",
       "      <td>47</td>\n",
       "    </tr>\n",
       "    <tr>\n",
       "      <th>97</th>\n",
       "      <td>4.917396</td>\n",
       "      <td>0.645418</td>\n",
       "      <td>0.666242</td>\n",
       "      <td>0.240078</td>\n",
       "      <td>0.0</td>\n",
       "      <td>{'var_smoothing': 1.519911082952933e-09}</td>\n",
       "      <td>0.867044</td>\n",
       "      <td>0.852001</td>\n",
       "      <td>0.847079</td>\n",
       "      <td>0.849968</td>\n",
       "      <td>0.860398</td>\n",
       "      <td>0.848620</td>\n",
       "      <td>0.849482</td>\n",
       "      <td>0.852002</td>\n",
       "      <td>0.863485</td>\n",
       "      <td>0.858606</td>\n",
       "      <td>0.854868</td>\n",
       "      <td>0.006605</td>\n",
       "      <td>46</td>\n",
       "    </tr>\n",
       "    <tr>\n",
       "      <th>98</th>\n",
       "      <td>4.544923</td>\n",
       "      <td>0.403712</td>\n",
       "      <td>0.653457</td>\n",
       "      <td>0.170640</td>\n",
       "      <td>0.0</td>\n",
       "      <td>{'var_smoothing': 1.2328467394420635e-09}</td>\n",
       "      <td>0.867356</td>\n",
       "      <td>0.852050</td>\n",
       "      <td>0.847779</td>\n",
       "      <td>0.850638</td>\n",
       "      <td>0.860624</td>\n",
       "      <td>0.848455</td>\n",
       "      <td>0.848690</td>\n",
       "      <td>0.852610</td>\n",
       "      <td>0.865389</td>\n",
       "      <td>0.858996</td>\n",
       "      <td>0.855259</td>\n",
       "      <td>0.006898</td>\n",
       "      <td>44</td>\n",
       "    </tr>\n",
       "    <tr>\n",
       "      <th>99</th>\n",
       "      <td>3.923293</td>\n",
       "      <td>0.614934</td>\n",
       "      <td>0.378479</td>\n",
       "      <td>0.114579</td>\n",
       "      <td>0.0</td>\n",
       "      <td>{'var_smoothing': 1e-09}</td>\n",
       "      <td>0.866960</td>\n",
       "      <td>0.850006</td>\n",
       "      <td>0.848638</td>\n",
       "      <td>0.850478</td>\n",
       "      <td>0.860581</td>\n",
       "      <td>0.849134</td>\n",
       "      <td>0.847956</td>\n",
       "      <td>0.854627</td>\n",
       "      <td>0.865338</td>\n",
       "      <td>0.858957</td>\n",
       "      <td>0.855267</td>\n",
       "      <td>0.006827</td>\n",
       "      <td>43</td>\n",
       "    </tr>\n",
       "  </tbody>\n",
       "</table>\n",
       "<p>100 rows × 19 columns</p>\n",
       "</div>"
      ],
      "text/plain": [
       "    mean_fit_time  std_fit_time  mean_score_time  std_score_time  \\\n",
       "0       12.361948      2.982150         0.594011        0.307385   \n",
       "1        5.541646      1.144893         0.495086        0.090049   \n",
       "2        4.458699      1.018883         0.619698        0.215771   \n",
       "3        4.932815      0.670740         0.392817        0.135501   \n",
       "4        5.410079      1.096556         0.566255        0.269074   \n",
       "..            ...           ...              ...             ...   \n",
       "95       4.169444      0.309068         0.707268        0.244167   \n",
       "96       4.696786      0.613848         0.679639        0.267196   \n",
       "97       4.917396      0.645418         0.666242        0.240078   \n",
       "98       4.544923      0.403712         0.653457        0.170640   \n",
       "99       3.923293      0.614934         0.378479        0.114579   \n",
       "\n",
       "   param_var_smoothing                                     params  \\\n",
       "0                  1.0                     {'var_smoothing': 1.0}   \n",
       "1             0.811131      {'var_smoothing': 0.8111308307896871}   \n",
       "2             0.657933       {'var_smoothing': 0.657933224657568}   \n",
       "3              0.53367       {'var_smoothing': 0.533669923120631}   \n",
       "4             0.432876     {'var_smoothing': 0.43287612810830584}   \n",
       "..                 ...                                        ...   \n",
       "95                 0.0   {'var_smoothing': 2.310129700083158e-09}   \n",
       "96                 0.0   {'var_smoothing': 1.873817422860387e-09}   \n",
       "97                 0.0   {'var_smoothing': 1.519911082952933e-09}   \n",
       "98                 0.0  {'var_smoothing': 1.2328467394420635e-09}   \n",
       "99                 0.0                   {'var_smoothing': 1e-09}   \n",
       "\n",
       "    split0_test_score  split1_test_score  split2_test_score  \\\n",
       "0            0.895731           0.867815           0.875436   \n",
       "1            0.900810           0.874104           0.880087   \n",
       "2            0.906258           0.880042           0.885014   \n",
       "3            0.911858           0.885012           0.889728   \n",
       "4            0.917455           0.890736           0.894196   \n",
       "..                ...                ...                ...   \n",
       "95           0.864210           0.848929           0.842765   \n",
       "96           0.866440           0.850052           0.844808   \n",
       "97           0.867044           0.852001           0.847079   \n",
       "98           0.867356           0.852050           0.847779   \n",
       "99           0.866960           0.850006           0.848638   \n",
       "\n",
       "    split3_test_score  split4_test_score  split5_test_score  \\\n",
       "0            0.878578           0.890985           0.887384   \n",
       "1            0.885050           0.896750           0.894019   \n",
       "2            0.891212           0.902011           0.900920   \n",
       "3            0.897195           0.906922           0.907678   \n",
       "4            0.902588           0.912230           0.913174   \n",
       "..                ...                ...                ...   \n",
       "95           0.848756           0.859192           0.849175   \n",
       "96           0.850095           0.860001           0.848450   \n",
       "97           0.849968           0.860398           0.848620   \n",
       "98           0.850638           0.860624           0.848455   \n",
       "99           0.850478           0.860581           0.849134   \n",
       "\n",
       "    split6_test_score  split7_test_score  split8_test_score  \\\n",
       "0            0.882206           0.879664           0.894721   \n",
       "1            0.888977           0.885546           0.902185   \n",
       "2            0.895512           0.891648           0.909177   \n",
       "3            0.902452           0.896822           0.915736   \n",
       "4            0.908331           0.903233           0.922011   \n",
       "..                ...                ...                ...   \n",
       "95           0.850591           0.849542           0.860942   \n",
       "96           0.850164           0.849521           0.862704   \n",
       "97           0.849482           0.852002           0.863485   \n",
       "98           0.848690           0.852610           0.865389   \n",
       "99           0.847956           0.854627           0.865338   \n",
       "\n",
       "    split9_test_score  mean_test_score  std_test_score  rank_test_score  \n",
       "0            0.870880         0.882340        0.009187               32  \n",
       "1            0.877973         0.888550        0.009203               30  \n",
       "2            0.884658         0.894645        0.009311               28  \n",
       "3            0.891236         0.900464        0.009612               26  \n",
       "4            0.897418         0.906137        0.009738               24  \n",
       "..                ...              ...             ...              ...  \n",
       "95           0.858088         0.853219        0.006513               49  \n",
       "96           0.858583         0.854082        0.006844               47  \n",
       "97           0.858606         0.854868        0.006605               46  \n",
       "98           0.858996         0.855259        0.006898               44  \n",
       "99           0.858957         0.855267        0.006827               43  \n",
       "\n",
       "[100 rows x 19 columns]"
      ]
     },
     "execution_count": 41,
     "metadata": {},
     "output_type": "execute_result"
    }
   ],
   "source": [
    "pd.DataFrame(grid_scores)"
   ]
  },
  {
   "cell_type": "code",
   "execution_count": 42,
   "id": "3e16f90d-6382-40df-b822-77d6c177a84e",
   "metadata": {},
   "outputs": [
    {
     "data": {
      "text/plain": [
       "{'var_smoothing': 0.02848035868435802}"
      ]
     },
     "execution_count": 42,
     "metadata": {},
     "output_type": "execute_result"
    }
   ],
   "source": [
    "grid_search.best_params_"
   ]
  },
  {
   "cell_type": "code",
   "execution_count": 45,
   "id": "7abf7d54-a9b3-45bf-9500-b824a7e9dcd4",
   "metadata": {},
   "outputs": [],
   "source": [
    "y_pred1 = grid_search.predict(X_test)"
   ]
  },
  {
   "cell_type": "code",
   "execution_count": 46,
   "id": "81fa43d5-422b-4f14-9f11-9da19c85ec23",
   "metadata": {},
   "outputs": [
    {
     "data": {
      "text/plain": [
       "array([1, 0, 1, ..., 0, 1, 1], dtype=int64)"
      ]
     },
     "execution_count": 46,
     "metadata": {},
     "output_type": "execute_result"
    }
   ],
   "source": [
    "y_pred1"
   ]
  },
  {
   "cell_type": "code",
   "execution_count": 47,
   "id": "47edea9e-a2ce-4674-898e-3e0ace61b24c",
   "metadata": {},
   "outputs": [
    {
     "data": {
      "text/plain": [
       "GridSearchCV(cv=10, estimator=GaussianNB(), n_jobs=-1,\n",
       "             param_grid={'var_smoothing': array([1.00000000e+00, 8.11130831e-01, 6.57933225e-01, 5.33669923e-01,\n",
       "       4.32876128e-01, 3.51119173e-01, 2.84803587e-01, 2.31012970e-01,\n",
       "       1.87381742e-01, 1.51991108e-01, 1.23284674e-01, 1.00000000e-01,\n",
       "       8.11130831e-02, 6.57933225e-02, 5.33669923e-02, 4.32876128e-02,\n",
       "       3.51119173e-02, 2.848035...\n",
       "       1.23284674e-07, 1.00000000e-07, 8.11130831e-08, 6.57933225e-08,\n",
       "       5.33669923e-08, 4.32876128e-08, 3.51119173e-08, 2.84803587e-08,\n",
       "       2.31012970e-08, 1.87381742e-08, 1.51991108e-08, 1.23284674e-08,\n",
       "       1.00000000e-08, 8.11130831e-09, 6.57933225e-09, 5.33669923e-09,\n",
       "       4.32876128e-09, 3.51119173e-09, 2.84803587e-09, 2.31012970e-09,\n",
       "       1.87381742e-09, 1.51991108e-09, 1.23284674e-09, 1.00000000e-09])},\n",
       "             scoring='accuracy')"
      ]
     },
     "execution_count": 47,
     "metadata": {},
     "output_type": "execute_result"
    }
   ],
   "source": [
    "#Using the accuracy for the scoring in naive bayes\n",
    "param_grid = {\n",
    "    \"var_smoothing\": np.logspace(0, -9, num = 100)\n",
    "}\n",
    "\n",
    "grid_search = GridSearchCV(classifier, param_grid, scoring='accuracy', cv=10, n_jobs=-1)\n",
    "grid_search.fit(X_train, y_train)\n"
   ]
  },
  {
   "cell_type": "code",
   "execution_count": 48,
   "id": "decae16b-c45f-4df7-8f98-bd57341566da",
   "metadata": {},
   "outputs": [],
   "source": [
    "grid_scores1 = grid_search.cv_results_"
   ]
  },
  {
   "cell_type": "code",
   "execution_count": 49,
   "id": "cceb2796-942a-495a-be08-1056ba372974",
   "metadata": {},
   "outputs": [],
   "source": [
    "scores = pd.DataFrame(grid_scores1)"
   ]
  },
  {
   "cell_type": "code",
   "execution_count": 50,
   "id": "cd97e76b-11b2-4e0e-9e5e-d1676c287f39",
   "metadata": {},
   "outputs": [
    {
     "data": {
      "text/plain": [
       "{'var_smoothing': 0.006579332246575682}"
      ]
     },
     "execution_count": 50,
     "metadata": {},
     "output_type": "execute_result"
    }
   ],
   "source": [
    "grid_search.best_params_"
   ]
  },
  {
   "cell_type": "code",
   "execution_count": 51,
   "id": "8f584c53-eb91-42b7-895e-5e961a5dc046",
   "metadata": {},
   "outputs": [],
   "source": [
    "scores = scores[scores['param_var_smoothing'] == 0.006579332246575682]"
   ]
  },
  {
   "cell_type": "code",
   "execution_count": 52,
   "id": "22fb9335-d322-4b9f-ac63-0880fa1f9527",
   "metadata": {},
   "outputs": [
    {
     "data": {
      "text/html": [
       "<div>\n",
       "<style scoped>\n",
       "    .dataframe tbody tr th:only-of-type {\n",
       "        vertical-align: middle;\n",
       "    }\n",
       "\n",
       "    .dataframe tbody tr th {\n",
       "        vertical-align: top;\n",
       "    }\n",
       "\n",
       "    .dataframe thead th {\n",
       "        text-align: right;\n",
       "    }\n",
       "</style>\n",
       "<table border=\"1\" class=\"dataframe\">\n",
       "  <thead>\n",
       "    <tr style=\"text-align: right;\">\n",
       "      <th></th>\n",
       "      <th>mean_fit_time</th>\n",
       "      <th>std_fit_time</th>\n",
       "      <th>mean_score_time</th>\n",
       "      <th>std_score_time</th>\n",
       "      <th>param_var_smoothing</th>\n",
       "      <th>params</th>\n",
       "      <th>split0_test_score</th>\n",
       "      <th>split1_test_score</th>\n",
       "      <th>split2_test_score</th>\n",
       "      <th>split3_test_score</th>\n",
       "      <th>split4_test_score</th>\n",
       "      <th>split5_test_score</th>\n",
       "      <th>split6_test_score</th>\n",
       "      <th>split7_test_score</th>\n",
       "      <th>split8_test_score</th>\n",
       "      <th>split9_test_score</th>\n",
       "      <th>mean_test_score</th>\n",
       "      <th>std_test_score</th>\n",
       "      <th>rank_test_score</th>\n",
       "    </tr>\n",
       "  </thead>\n",
       "  <tbody>\n",
       "    <tr>\n",
       "      <th>24</th>\n",
       "      <td>4.425215</td>\n",
       "      <td>0.275995</td>\n",
       "      <td>0.52488</td>\n",
       "      <td>0.098658</td>\n",
       "      <td>0.006579</td>\n",
       "      <td>{'var_smoothing': 0.006579332246575682}</td>\n",
       "      <td>0.846065</td>\n",
       "      <td>0.839699</td>\n",
       "      <td>0.836227</td>\n",
       "      <td>0.837963</td>\n",
       "      <td>0.851852</td>\n",
       "      <td>0.840278</td>\n",
       "      <td>0.859375</td>\n",
       "      <td>0.84838</td>\n",
       "      <td>0.862847</td>\n",
       "      <td>0.844818</td>\n",
       "      <td>0.84675</td>\n",
       "      <td>0.00855</td>\n",
       "      <td>1</td>\n",
       "    </tr>\n",
       "  </tbody>\n",
       "</table>\n",
       "</div>"
      ],
      "text/plain": [
       "    mean_fit_time  std_fit_time  mean_score_time  std_score_time  \\\n",
       "24       4.425215      0.275995          0.52488        0.098658   \n",
       "\n",
       "   param_var_smoothing                                   params  \\\n",
       "24            0.006579  {'var_smoothing': 0.006579332246575682}   \n",
       "\n",
       "    split0_test_score  split1_test_score  split2_test_score  \\\n",
       "24           0.846065           0.839699           0.836227   \n",
       "\n",
       "    split3_test_score  split4_test_score  split5_test_score  \\\n",
       "24           0.837963           0.851852           0.840278   \n",
       "\n",
       "    split6_test_score  split7_test_score  split8_test_score  \\\n",
       "24           0.859375            0.84838           0.862847   \n",
       "\n",
       "    split9_test_score  mean_test_score  std_test_score  rank_test_score  \n",
       "24           0.844818          0.84675         0.00855                1  "
      ]
     },
     "execution_count": 52,
     "metadata": {},
     "output_type": "execute_result"
    }
   ],
   "source": [
    "scores"
   ]
  },
  {
   "cell_type": "code",
   "execution_count": 55,
   "id": "5d97562b",
   "metadata": {},
   "outputs": [
    {
     "name": "stdout",
     "output_type": "stream",
     "text": [
      "Prediction from Support Vector Classifier: [1 0 1 ... 0 1 1]\n",
      "Prediction for best performing Naive Bayes Classifier: [1 0 1 ... 0 1 1]\n"
     ]
    }
   ],
   "source": [
    "print(f'Prediction from Support Vector Classifier: {y_pred}')\n",
    "print(f'Prediction for best performing Naive Bayes Classifier: {y_pred1}')"
   ]
  },
  {
   "cell_type": "markdown",
   "id": "3613bf41-4433-4f51-9ffd-f83af6291b0f",
   "metadata": {},
   "source": [
    "**Best parameter gave a mean accuracy score of 0.85 which is 85%**"
   ]
  },
  {
   "cell_type": "code",
   "execution_count": 56,
   "id": "37b63068-cf59-44d8-9bbe-7092f48b50b0",
   "metadata": {},
   "outputs": [
    {
     "data": {
      "text/plain": [
       "['Classifier_Sentiment SVC Model']"
      ]
     },
     "execution_count": 56,
     "metadata": {},
     "output_type": "execute_result"
    }
   ],
   "source": [
    "# This code will export Naive Bayes Classifier for later use in prediction\n",
    "joblib.dump(grid_search, 'Classifier_Sentiment GNB Model') \n",
    "joblib.dump(svc, 'Classifier_Sentiment SVC Model')"
   ]
  },
  {
   "cell_type": "code",
   "execution_count": null,
   "id": "9e50a374-1f8a-41fc-a9e2-6f1e3edae469",
   "metadata": {},
   "outputs": [],
   "source": []
  }
 ],
 "metadata": {
  "kernelspec": {
   "display_name": "Python 3 (ipykernel)",
   "language": "python",
   "name": "python3"
  },
  "language_info": {
   "codemirror_mode": {
    "name": "ipython",
    "version": 3
   },
   "file_extension": ".py",
   "mimetype": "text/x-python",
   "name": "python",
   "nbconvert_exporter": "python",
   "pygments_lexer": "ipython3",
   "version": "3.10.7"
  },
  "vscode": {
   "interpreter": {
    "hash": "ec276d527f03214d63d3800788d12d7ea13e45e39586e64c66e677eb48d7c099"
   }
  }
 },
 "nbformat": 4,
 "nbformat_minor": 5
}
